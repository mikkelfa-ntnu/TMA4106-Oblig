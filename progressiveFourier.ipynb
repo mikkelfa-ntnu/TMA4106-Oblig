{
 "cells": [
  {
   "cell_type": "code",
   "execution_count": 6,
   "metadata": {},
   "outputs": [
    {
     "name": "stdout",
     "output_type": "stream",
     "text": [
      "Bølgenummer:   1  Frekvens:   110 Hz\n",
      "Bølgenummer:   2  Frekvens:   330 Hz\n",
      "Bølgenummer:   3  Frekvens:   550 Hz\n",
      "Bølgenummer:   4  Frekvens:   770 Hz\n",
      "Bølgenummer:   5  Frekvens:   990 Hz\n",
      "Bølgenummer:   6  Frekvens:  1210 Hz\n",
      "Bølgenummer:   7  Frekvens:  1430 Hz\n",
      "Bølgenummer:   8  Frekvens:  1650 Hz\n",
      "Bølgenummer:   9  Frekvens:  1870 Hz\n",
      "Bølgenummer:  10  Frekvens:  2090 Hz\n",
      "Bølgenummer:  11  Frekvens:  2310 Hz\n",
      "Bølgenummer:  12  Frekvens:  2530 Hz\n",
      "Bølgenummer:  13  Frekvens:  2750 Hz\n",
      "Bølgenummer:  14  Frekvens:  2970 Hz\n",
      "Bølgenummer:  15  Frekvens:  3190 Hz\n",
      "Bølgenummer:  16  Frekvens:  3410 Hz\n",
      "Bølgenummer:  17  Frekvens:  3630 Hz\n",
      "Bølgenummer:  18  Frekvens:  3850 Hz\n",
      "Bølgenummer:  19  Frekvens:  4070 Hz\n",
      "Bølgenummer:  20  Frekvens:  4290 Hz\n",
      "Bølgenummer:  30  Frekvens:  6490 Hz\n",
      "Bølgenummer:  40  Frekvens:  8690 Hz\n",
      "Bølgenummer:  50  Frekvens: 10890 Hz\n",
      "Bølgenummer: 100  Frekvens: 21890 Hz\n"
     ]
    }
   ],
   "source": [
    "import numpy as np\n",
    "import pyaudio\n",
    "import matplotlib.pyplot as plt\n",
    "import time\n",
    "\n",
    "p = pyaudio.PyAudio()\n",
    "\n",
    "volume = 0.5\n",
    "\n",
    "samplingRate = 44100  # Hertz\n",
    "base_frekvens = 110 # Hertz\n",
    "duration= 1 #sekunder\n",
    "\n",
    "tid=np.linspace(0,duration,samplingRate*duration)\n",
    "firkantApprox=np.zeros(len(tid))\n",
    "\n",
    "stream = p.open(format=pyaudio.paFloat32,\n",
    "                channels=1,\n",
    "                rate=samplingRate,\n",
    "                output=True)\n",
    "\n",
    "avspillingsVerdier=[1,2,3,4,5,6,7,8,9,10,11,12,13,14,15,16,17,18,19,20,30,40,50,100] #Verdier hvor lyd skal spilles av\n",
    "\n",
    "antall=0\n",
    "while(True):\n",
    "    n=2*antall+1 # Firkantbølgen er en odd funksjon\n",
    "    antall+=1\n",
    "\n",
    "    frekvens=n*base_frekvens\n",
    "\n",
    "    if 2*frekvens>samplingRate: # Nyquists samplingteorem\n",
    "        break\n",
    "    \n",
    "    bolge = 4/(np.pi * n)*np.sin(2*np.pi*frekvens*tid)\n",
    "\n",
    "    firkantApprox+=bolge\n",
    "\n",
    "    if antall in avspillingsVerdier:\n",
    "        print(f\"Bølgenummer: {antall:3d}  Frekvens: {frekvens:5.0f} Hz\")\n",
    "\n",
    "        audioApprox = (volume * firkantApprox).astype(np.float32).tobytes()\n",
    "        stream.write(audioApprox) #Spiller av fourierapproksimasjonen\n",
    "\n",
    "firkantBolge=np.sign(np.sin(2*np.pi*tid*base_frekvens))\n",
    "\n",
    "audioFaktisk = (volume * firkantBolge).astype(np.float32).tobytes()\n",
    "\n",
    "time.sleep(1)\n",
    "stream.write(audioFaktisk) #Spiller av en ekte firkantbølge\n",
    "\n",
    "stream.stop_stream()\n",
    "stream.close()\n",
    "p.terminate()\n"
   ]
  }
 ],
 "metadata": {
  "kernelspec": {
   "display_name": "base",
   "language": "python",
   "name": "python3"
  },
  "language_info": {
   "codemirror_mode": {
    "name": "ipython",
    "version": 3
   },
   "file_extension": ".py",
   "mimetype": "text/x-python",
   "name": "python",
   "nbconvert_exporter": "python",
   "pygments_lexer": "ipython3",
   "version": "3.8.8"
  }
 },
 "nbformat": 4,
 "nbformat_minor": 2
}
